{
 "cells": [
  {
   "cell_type": "markdown",
   "id": "20e10f12",
   "metadata": {},
   "source": [
    "PROJECT 1"
   ]
  }
 ],
 "metadata": {
  "language_info": {
   "name": "python"
  }
 },
 "nbformat": 4,
 "nbformat_minor": 5
}
